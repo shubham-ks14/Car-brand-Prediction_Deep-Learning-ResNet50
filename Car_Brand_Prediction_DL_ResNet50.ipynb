{
  "nbformat": 4,
  "nbformat_minor": 0,
  "metadata": {
    "colab": {
      "name": "Car-Brand-Prediction || DL_ResNet50.ipynb",
      "provenance": [],
      "collapsed_sections": []
    },
    "kernelspec": {
      "name": "python3",
      "display_name": "Python 3"
    },
    "accelerator": "TPU"
  },
  "cells": [
    {
      "cell_type": "markdown",
      "metadata": {
        "id": "WcOMH9qOlP_o",
        "colab_type": "text"
      },
      "source": [
        "## Transfer Learning ResNet50 using Keras"
      ]
    },
    {
      "cell_type": "code",
      "metadata": {
        "id": "7RWyyi-WlgNL",
        "colab_type": "code",
        "colab": {}
      },
      "source": [
        "import numpy as np\n",
        "import matplotlib.pyplot as plt\n",
        "%matplotlib inline \n",
        "from tensorflow.compat.v1 import ConfigProto\n",
        "from tensorflow.compat.v1 import InteractiveSession\n",
        "\n",
        "config = ConfigProto()\n",
        "config.gpu_options.per_process_gpu_memory_fraction = 0.5\n",
        "config.gpu_options.allow_growth = True\n",
        "session = InteractiveSession(config=config)"
      ],
      "execution_count": null,
      "outputs": []
    },
    {
      "cell_type": "code",
      "metadata": {
        "id": "-PMz-hUTlgc2",
        "colab_type": "code",
        "colab": {}
      },
      "source": [
        "\n",
        "from tensorflow.keras.layers import Input, Lambda, Dense, Flatten\n",
        "from tensorflow.keras.models import Model\n",
        "from tensorflow.keras.applications.resnet50 import ResNet50\n",
        "from keras.applications.vgg16 import VGG16\n",
        "from tensorflow.keras.applications.resnet50 import preprocess_input\n",
        "from tensorflow.keras.preprocessing import image\n",
        "from tensorflow.keras.preprocessing.image import ImageDataGenerator,load_img\n",
        "from tensorflow.keras.models import Sequential\n",
        "from glob import glob\n",
        "import os\n",
        "import zipfile\n"
      ],
      "execution_count": null,
      "outputs": []
    },
    {
      "cell_type": "code",
      "metadata": {
        "id": "vtaFe4fAn-Vr",
        "colab_type": "code",
        "colab": {
          "base_uri": "https://localhost:8080/",
          "height": 54
        },
        "outputId": "b7436d35-3930-4f1a-f1c6-6868b55ef8f4"
      },
      "source": [
        "from google.colab import drive\n",
        "drive.mount('/content/drive')"
      ],
      "execution_count": null,
      "outputs": [
        {
          "output_type": "stream",
          "text": [
            "Drive already mounted at /content/drive; to attempt to forcibly remount, call drive.mount(\"/content/drive\", force_remount=True).\n"
          ],
          "name": "stdout"
        }
      ]
    },
    {
      "cell_type": "code",
      "metadata": {
        "id": "RN6ldCeg2yJ6",
        "colab_type": "code",
        "colab": {}
      },
      "source": [
        "base_dir = '/content/drive/My Drive/Colab Notebooks/1_Data_science_projects/2_carPrediction/Dataset'\n",
        "train_dir = os.path.join(base_dir, 'Train')\n",
        "test_dir = os.path.join(base_dir, 'Test')\n"
      ],
      "execution_count": null,
      "outputs": []
    },
    {
      "cell_type": "code",
      "metadata": {
        "id": "CU7FHV9b3QAu",
        "colab_type": "code",
        "colab": {
          "base_uri": "https://localhost:8080/",
          "height": 35
        },
        "outputId": "7b84e5ec-0c39-49a3-f679-5dd0d714e4c8"
      },
      "source": [
        "train_dir"
      ],
      "execution_count": null,
      "outputs": [
        {
          "output_type": "execute_result",
          "data": {
            "application/vnd.google.colaboratory.intrinsic+json": {
              "type": "string"
            },
            "text/plain": [
              "'/content/drive/My Drive/Colab Notebooks/1_Data_science_projects/2_carPrediction/Dataset/Train'"
            ]
          },
          "metadata": {
            "tags": []
          },
          "execution_count": 6
        }
      ]
    },
    {
      "cell_type": "code",
      "metadata": {
        "id": "TFJEJ1Wx3Rkf",
        "colab_type": "code",
        "colab": {
          "base_uri": "https://localhost:8080/",
          "height": 34
        },
        "outputId": "1d7b5a65-1235-4a77-85f1-09d9dfbca065"
      },
      "source": [
        "train_fnames = os.listdir(train_dir)\n",
        "print(train_fnames)  # outputs the number of classes"
      ],
      "execution_count": null,
      "outputs": [
        {
          "output_type": "stream",
          "text": [
            "['mercedes', 'lamborghini', 'audi']\n"
          ],
          "name": "stdout"
        }
      ]
    },
    {
      "cell_type": "code",
      "metadata": {
        "id": "sZPBDicIvXA9",
        "colab_type": "code",
        "colab": {}
      },
      "source": [
        "# re-size all the images to this size\n",
        "IMAGE_SIZE = [224, 224]"
      ],
      "execution_count": null,
      "outputs": []
    },
    {
      "cell_type": "code",
      "metadata": {
        "id": "694hc5VNv1wO",
        "colab_type": "code",
        "colab": {}
      },
      "source": [
        "# Importing the ResNet50 library as shown below and add preprocessing layer to the front of ResNet50\n",
        "# Here we will be using imagenet weights\n",
        "# [3] is added for RGB channels\n",
        "\n",
        "resnet = ResNet50(input_shape= IMAGE_SIZE + [3], weights = 'imagenet', include_top= False)"
      ],
      "execution_count": null,
      "outputs": []
    },
    {
      "cell_type": "code",
      "metadata": {
        "id": "Uc5604Q0zmTs",
        "colab_type": "code",
        "colab": {}
      },
      "source": [
        "# In transfer learning we already have the trained weights, so we wont train them\n",
        "for layer in resnet.layers:\n",
        "  layer.trainable = False"
      ],
      "execution_count": null,
      "outputs": []
    },
    {
      "cell_type": "code",
      "metadata": {
        "id": "2_YYPBdFzmd3",
        "colab_type": "code",
        "colab": {
          "base_uri": "https://localhost:8080/",
          "height": 68
        },
        "outputId": "9e62f32f-da2f-449c-aa61-87fe03916dce"
      },
      "source": [
        "# To get number of output classes\n",
        "folders = glob('/content/drive/My Drive/Colab Notebooks/1_Data_science_projects/2_carPrediction/Dataset/Train/*')\n",
        "folders"
      ],
      "execution_count": null,
      "outputs": [
        {
          "output_type": "execute_result",
          "data": {
            "text/plain": [
              "['/content/drive/My Drive/Colab Notebooks/1_Data_science_projects/2_carPrediction/Dataset/Train/mercedes',\n",
              " '/content/drive/My Drive/Colab Notebooks/1_Data_science_projects/2_carPrediction/Dataset/Train/lamborghini',\n",
              " '/content/drive/My Drive/Colab Notebooks/1_Data_science_projects/2_carPrediction/Dataset/Train/audi']"
            ]
          },
          "metadata": {
            "tags": []
          },
          "execution_count": 11
        }
      ]
    },
    {
      "cell_type": "code",
      "metadata": {
        "id": "nuzc-uHBzmmM",
        "colab_type": "code",
        "colab": {
          "base_uri": "https://localhost:8080/",
          "height": 34
        },
        "outputId": "81edb626-2557-4447-929f-63512f451a20"
      },
      "source": [
        "len(folders)  # No. of output classses"
      ],
      "execution_count": null,
      "outputs": [
        {
          "output_type": "execute_result",
          "data": {
            "text/plain": [
              "3"
            ]
          },
          "metadata": {
            "tags": []
          },
          "execution_count": 12
        }
      ]
    },
    {
      "cell_type": "code",
      "metadata": {
        "id": "jtIpeLLfzmhB",
        "colab_type": "code",
        "colab": {}
      },
      "source": [
        "# No. of layers in the last output\n",
        "x= Flatten()(resnet.output)"
      ],
      "execution_count": null,
      "outputs": []
    },
    {
      "cell_type": "code",
      "metadata": {
        "id": "DHSNYWVVzmkB",
        "colab_type": "code",
        "colab": {}
      },
      "source": [
        "prediction =  Dense(len(folders), activation='softmax')(x)\n",
        "\n",
        "# Create a model object\n",
        "model = Model(inputs = resnet.input, outputs = prediction )"
      ],
      "execution_count": null,
      "outputs": []
    },
    {
      "cell_type": "code",
      "metadata": {
        "id": "4Xp7HeRK2Ely",
        "colab_type": "code",
        "colab": {
          "base_uri": "https://localhost:8080/",
          "height": 1000
        },
        "outputId": "4b73c9f8-13a8-4a38-e792-3f418308b4b8"
      },
      "source": [
        "# Check the summary and structure of the model\n",
        "model.summary()"
      ],
      "execution_count": null,
      "outputs": [
        {
          "output_type": "stream",
          "text": [
            "Model: \"functional_1\"\n",
            "__________________________________________________________________________________________________\n",
            "Layer (type)                    Output Shape         Param #     Connected to                     \n",
            "==================================================================================================\n",
            "input_1 (InputLayer)            [(None, 224, 224, 3) 0                                            \n",
            "__________________________________________________________________________________________________\n",
            "conv1_pad (ZeroPadding2D)       (None, 230, 230, 3)  0           input_1[0][0]                    \n",
            "__________________________________________________________________________________________________\n",
            "conv1_conv (Conv2D)             (None, 112, 112, 64) 9472        conv1_pad[0][0]                  \n",
            "__________________________________________________________________________________________________\n",
            "conv1_bn (BatchNormalization)   (None, 112, 112, 64) 256         conv1_conv[0][0]                 \n",
            "__________________________________________________________________________________________________\n",
            "conv1_relu (Activation)         (None, 112, 112, 64) 0           conv1_bn[0][0]                   \n",
            "__________________________________________________________________________________________________\n",
            "pool1_pad (ZeroPadding2D)       (None, 114, 114, 64) 0           conv1_relu[0][0]                 \n",
            "__________________________________________________________________________________________________\n",
            "pool1_pool (MaxPooling2D)       (None, 56, 56, 64)   0           pool1_pad[0][0]                  \n",
            "__________________________________________________________________________________________________\n",
            "conv2_block1_1_conv (Conv2D)    (None, 56, 56, 64)   4160        pool1_pool[0][0]                 \n",
            "__________________________________________________________________________________________________\n",
            "conv2_block1_1_bn (BatchNormali (None, 56, 56, 64)   256         conv2_block1_1_conv[0][0]        \n",
            "__________________________________________________________________________________________________\n",
            "conv2_block1_1_relu (Activation (None, 56, 56, 64)   0           conv2_block1_1_bn[0][0]          \n",
            "__________________________________________________________________________________________________\n",
            "conv2_block1_2_conv (Conv2D)    (None, 56, 56, 64)   36928       conv2_block1_1_relu[0][0]        \n",
            "__________________________________________________________________________________________________\n",
            "conv2_block1_2_bn (BatchNormali (None, 56, 56, 64)   256         conv2_block1_2_conv[0][0]        \n",
            "__________________________________________________________________________________________________\n",
            "conv2_block1_2_relu (Activation (None, 56, 56, 64)   0           conv2_block1_2_bn[0][0]          \n",
            "__________________________________________________________________________________________________\n",
            "conv2_block1_0_conv (Conv2D)    (None, 56, 56, 256)  16640       pool1_pool[0][0]                 \n",
            "__________________________________________________________________________________________________\n",
            "conv2_block1_3_conv (Conv2D)    (None, 56, 56, 256)  16640       conv2_block1_2_relu[0][0]        \n",
            "__________________________________________________________________________________________________\n",
            "conv2_block1_0_bn (BatchNormali (None, 56, 56, 256)  1024        conv2_block1_0_conv[0][0]        \n",
            "__________________________________________________________________________________________________\n",
            "conv2_block1_3_bn (BatchNormali (None, 56, 56, 256)  1024        conv2_block1_3_conv[0][0]        \n",
            "__________________________________________________________________________________________________\n",
            "conv2_block1_add (Add)          (None, 56, 56, 256)  0           conv2_block1_0_bn[0][0]          \n",
            "                                                                 conv2_block1_3_bn[0][0]          \n",
            "__________________________________________________________________________________________________\n",
            "conv2_block1_out (Activation)   (None, 56, 56, 256)  0           conv2_block1_add[0][0]           \n",
            "__________________________________________________________________________________________________\n",
            "conv2_block2_1_conv (Conv2D)    (None, 56, 56, 64)   16448       conv2_block1_out[0][0]           \n",
            "__________________________________________________________________________________________________\n",
            "conv2_block2_1_bn (BatchNormali (None, 56, 56, 64)   256         conv2_block2_1_conv[0][0]        \n",
            "__________________________________________________________________________________________________\n",
            "conv2_block2_1_relu (Activation (None, 56, 56, 64)   0           conv2_block2_1_bn[0][0]          \n",
            "__________________________________________________________________________________________________\n",
            "conv2_block2_2_conv (Conv2D)    (None, 56, 56, 64)   36928       conv2_block2_1_relu[0][0]        \n",
            "__________________________________________________________________________________________________\n",
            "conv2_block2_2_bn (BatchNormali (None, 56, 56, 64)   256         conv2_block2_2_conv[0][0]        \n",
            "__________________________________________________________________________________________________\n",
            "conv2_block2_2_relu (Activation (None, 56, 56, 64)   0           conv2_block2_2_bn[0][0]          \n",
            "__________________________________________________________________________________________________\n",
            "conv2_block2_3_conv (Conv2D)    (None, 56, 56, 256)  16640       conv2_block2_2_relu[0][0]        \n",
            "__________________________________________________________________________________________________\n",
            "conv2_block2_3_bn (BatchNormali (None, 56, 56, 256)  1024        conv2_block2_3_conv[0][0]        \n",
            "__________________________________________________________________________________________________\n",
            "conv2_block2_add (Add)          (None, 56, 56, 256)  0           conv2_block1_out[0][0]           \n",
            "                                                                 conv2_block2_3_bn[0][0]          \n",
            "__________________________________________________________________________________________________\n",
            "conv2_block2_out (Activation)   (None, 56, 56, 256)  0           conv2_block2_add[0][0]           \n",
            "__________________________________________________________________________________________________\n",
            "conv2_block3_1_conv (Conv2D)    (None, 56, 56, 64)   16448       conv2_block2_out[0][0]           \n",
            "__________________________________________________________________________________________________\n",
            "conv2_block3_1_bn (BatchNormali (None, 56, 56, 64)   256         conv2_block3_1_conv[0][0]        \n",
            "__________________________________________________________________________________________________\n",
            "conv2_block3_1_relu (Activation (None, 56, 56, 64)   0           conv2_block3_1_bn[0][0]          \n",
            "__________________________________________________________________________________________________\n",
            "conv2_block3_2_conv (Conv2D)    (None, 56, 56, 64)   36928       conv2_block3_1_relu[0][0]        \n",
            "__________________________________________________________________________________________________\n",
            "conv2_block3_2_bn (BatchNormali (None, 56, 56, 64)   256         conv2_block3_2_conv[0][0]        \n",
            "__________________________________________________________________________________________________\n",
            "conv2_block3_2_relu (Activation (None, 56, 56, 64)   0           conv2_block3_2_bn[0][0]          \n",
            "__________________________________________________________________________________________________\n",
            "conv2_block3_3_conv (Conv2D)    (None, 56, 56, 256)  16640       conv2_block3_2_relu[0][0]        \n",
            "__________________________________________________________________________________________________\n",
            "conv2_block3_3_bn (BatchNormali (None, 56, 56, 256)  1024        conv2_block3_3_conv[0][0]        \n",
            "__________________________________________________________________________________________________\n",
            "conv2_block3_add (Add)          (None, 56, 56, 256)  0           conv2_block2_out[0][0]           \n",
            "                                                                 conv2_block3_3_bn[0][0]          \n",
            "__________________________________________________________________________________________________\n",
            "conv2_block3_out (Activation)   (None, 56, 56, 256)  0           conv2_block3_add[0][0]           \n",
            "__________________________________________________________________________________________________\n",
            "conv3_block1_1_conv (Conv2D)    (None, 28, 28, 128)  32896       conv2_block3_out[0][0]           \n",
            "__________________________________________________________________________________________________\n",
            "conv3_block1_1_bn (BatchNormali (None, 28, 28, 128)  512         conv3_block1_1_conv[0][0]        \n",
            "__________________________________________________________________________________________________\n",
            "conv3_block1_1_relu (Activation (None, 28, 28, 128)  0           conv3_block1_1_bn[0][0]          \n",
            "__________________________________________________________________________________________________\n",
            "conv3_block1_2_conv (Conv2D)    (None, 28, 28, 128)  147584      conv3_block1_1_relu[0][0]        \n",
            "__________________________________________________________________________________________________\n",
            "conv3_block1_2_bn (BatchNormali (None, 28, 28, 128)  512         conv3_block1_2_conv[0][0]        \n",
            "__________________________________________________________________________________________________\n",
            "conv3_block1_2_relu (Activation (None, 28, 28, 128)  0           conv3_block1_2_bn[0][0]          \n",
            "__________________________________________________________________________________________________\n",
            "conv3_block1_0_conv (Conv2D)    (None, 28, 28, 512)  131584      conv2_block3_out[0][0]           \n",
            "__________________________________________________________________________________________________\n",
            "conv3_block1_3_conv (Conv2D)    (None, 28, 28, 512)  66048       conv3_block1_2_relu[0][0]        \n",
            "__________________________________________________________________________________________________\n",
            "conv3_block1_0_bn (BatchNormali (None, 28, 28, 512)  2048        conv3_block1_0_conv[0][0]        \n",
            "__________________________________________________________________________________________________\n",
            "conv3_block1_3_bn (BatchNormali (None, 28, 28, 512)  2048        conv3_block1_3_conv[0][0]        \n",
            "__________________________________________________________________________________________________\n",
            "conv3_block1_add (Add)          (None, 28, 28, 512)  0           conv3_block1_0_bn[0][0]          \n",
            "                                                                 conv3_block1_3_bn[0][0]          \n",
            "__________________________________________________________________________________________________\n",
            "conv3_block1_out (Activation)   (None, 28, 28, 512)  0           conv3_block1_add[0][0]           \n",
            "__________________________________________________________________________________________________\n",
            "conv3_block2_1_conv (Conv2D)    (None, 28, 28, 128)  65664       conv3_block1_out[0][0]           \n",
            "__________________________________________________________________________________________________\n",
            "conv3_block2_1_bn (BatchNormali (None, 28, 28, 128)  512         conv3_block2_1_conv[0][0]        \n",
            "__________________________________________________________________________________________________\n",
            "conv3_block2_1_relu (Activation (None, 28, 28, 128)  0           conv3_block2_1_bn[0][0]          \n",
            "__________________________________________________________________________________________________\n",
            "conv3_block2_2_conv (Conv2D)    (None, 28, 28, 128)  147584      conv3_block2_1_relu[0][0]        \n",
            "__________________________________________________________________________________________________\n",
            "conv3_block2_2_bn (BatchNormali (None, 28, 28, 128)  512         conv3_block2_2_conv[0][0]        \n",
            "__________________________________________________________________________________________________\n",
            "conv3_block2_2_relu (Activation (None, 28, 28, 128)  0           conv3_block2_2_bn[0][0]          \n",
            "__________________________________________________________________________________________________\n",
            "conv3_block2_3_conv (Conv2D)    (None, 28, 28, 512)  66048       conv3_block2_2_relu[0][0]        \n",
            "__________________________________________________________________________________________________\n",
            "conv3_block2_3_bn (BatchNormali (None, 28, 28, 512)  2048        conv3_block2_3_conv[0][0]        \n",
            "__________________________________________________________________________________________________\n",
            "conv3_block2_add (Add)          (None, 28, 28, 512)  0           conv3_block1_out[0][0]           \n",
            "                                                                 conv3_block2_3_bn[0][0]          \n",
            "__________________________________________________________________________________________________\n",
            "conv3_block2_out (Activation)   (None, 28, 28, 512)  0           conv3_block2_add[0][0]           \n",
            "__________________________________________________________________________________________________\n",
            "conv3_block3_1_conv (Conv2D)    (None, 28, 28, 128)  65664       conv3_block2_out[0][0]           \n",
            "__________________________________________________________________________________________________\n",
            "conv3_block3_1_bn (BatchNormali (None, 28, 28, 128)  512         conv3_block3_1_conv[0][0]        \n",
            "__________________________________________________________________________________________________\n",
            "conv3_block3_1_relu (Activation (None, 28, 28, 128)  0           conv3_block3_1_bn[0][0]          \n",
            "__________________________________________________________________________________________________\n",
            "conv3_block3_2_conv (Conv2D)    (None, 28, 28, 128)  147584      conv3_block3_1_relu[0][0]        \n",
            "__________________________________________________________________________________________________\n",
            "conv3_block3_2_bn (BatchNormali (None, 28, 28, 128)  512         conv3_block3_2_conv[0][0]        \n",
            "__________________________________________________________________________________________________\n",
            "conv3_block3_2_relu (Activation (None, 28, 28, 128)  0           conv3_block3_2_bn[0][0]          \n",
            "__________________________________________________________________________________________________\n",
            "conv3_block3_3_conv (Conv2D)    (None, 28, 28, 512)  66048       conv3_block3_2_relu[0][0]        \n",
            "__________________________________________________________________________________________________\n",
            "conv3_block3_3_bn (BatchNormali (None, 28, 28, 512)  2048        conv3_block3_3_conv[0][0]        \n",
            "__________________________________________________________________________________________________\n",
            "conv3_block3_add (Add)          (None, 28, 28, 512)  0           conv3_block2_out[0][0]           \n",
            "                                                                 conv3_block3_3_bn[0][0]          \n",
            "__________________________________________________________________________________________________\n",
            "conv3_block3_out (Activation)   (None, 28, 28, 512)  0           conv3_block3_add[0][0]           \n",
            "__________________________________________________________________________________________________\n",
            "conv3_block4_1_conv (Conv2D)    (None, 28, 28, 128)  65664       conv3_block3_out[0][0]           \n",
            "__________________________________________________________________________________________________\n",
            "conv3_block4_1_bn (BatchNormali (None, 28, 28, 128)  512         conv3_block4_1_conv[0][0]        \n",
            "__________________________________________________________________________________________________\n",
            "conv3_block4_1_relu (Activation (None, 28, 28, 128)  0           conv3_block4_1_bn[0][0]          \n",
            "__________________________________________________________________________________________________\n",
            "conv3_block4_2_conv (Conv2D)    (None, 28, 28, 128)  147584      conv3_block4_1_relu[0][0]        \n",
            "__________________________________________________________________________________________________\n",
            "conv3_block4_2_bn (BatchNormali (None, 28, 28, 128)  512         conv3_block4_2_conv[0][0]        \n",
            "__________________________________________________________________________________________________\n",
            "conv3_block4_2_relu (Activation (None, 28, 28, 128)  0           conv3_block4_2_bn[0][0]          \n",
            "__________________________________________________________________________________________________\n",
            "conv3_block4_3_conv (Conv2D)    (None, 28, 28, 512)  66048       conv3_block4_2_relu[0][0]        \n",
            "__________________________________________________________________________________________________\n",
            "conv3_block4_3_bn (BatchNormali (None, 28, 28, 512)  2048        conv3_block4_3_conv[0][0]        \n",
            "__________________________________________________________________________________________________\n",
            "conv3_block4_add (Add)          (None, 28, 28, 512)  0           conv3_block3_out[0][0]           \n",
            "                                                                 conv3_block4_3_bn[0][0]          \n",
            "__________________________________________________________________________________________________\n",
            "conv3_block4_out (Activation)   (None, 28, 28, 512)  0           conv3_block4_add[0][0]           \n",
            "__________________________________________________________________________________________________\n",
            "conv4_block1_1_conv (Conv2D)    (None, 14, 14, 256)  131328      conv3_block4_out[0][0]           \n",
            "__________________________________________________________________________________________________\n",
            "conv4_block1_1_bn (BatchNormali (None, 14, 14, 256)  1024        conv4_block1_1_conv[0][0]        \n",
            "__________________________________________________________________________________________________\n",
            "conv4_block1_1_relu (Activation (None, 14, 14, 256)  0           conv4_block1_1_bn[0][0]          \n",
            "__________________________________________________________________________________________________\n",
            "conv4_block1_2_conv (Conv2D)    (None, 14, 14, 256)  590080      conv4_block1_1_relu[0][0]        \n",
            "__________________________________________________________________________________________________\n",
            "conv4_block1_2_bn (BatchNormali (None, 14, 14, 256)  1024        conv4_block1_2_conv[0][0]        \n",
            "__________________________________________________________________________________________________\n",
            "conv4_block1_2_relu (Activation (None, 14, 14, 256)  0           conv4_block1_2_bn[0][0]          \n",
            "__________________________________________________________________________________________________\n",
            "conv4_block1_0_conv (Conv2D)    (None, 14, 14, 1024) 525312      conv3_block4_out[0][0]           \n",
            "__________________________________________________________________________________________________\n",
            "conv4_block1_3_conv (Conv2D)    (None, 14, 14, 1024) 263168      conv4_block1_2_relu[0][0]        \n",
            "__________________________________________________________________________________________________\n",
            "conv4_block1_0_bn (BatchNormali (None, 14, 14, 1024) 4096        conv4_block1_0_conv[0][0]        \n",
            "__________________________________________________________________________________________________\n",
            "conv4_block1_3_bn (BatchNormali (None, 14, 14, 1024) 4096        conv4_block1_3_conv[0][0]        \n",
            "__________________________________________________________________________________________________\n",
            "conv4_block1_add (Add)          (None, 14, 14, 1024) 0           conv4_block1_0_bn[0][0]          \n",
            "                                                                 conv4_block1_3_bn[0][0]          \n",
            "__________________________________________________________________________________________________\n",
            "conv4_block1_out (Activation)   (None, 14, 14, 1024) 0           conv4_block1_add[0][0]           \n",
            "__________________________________________________________________________________________________\n",
            "conv4_block2_1_conv (Conv2D)    (None, 14, 14, 256)  262400      conv4_block1_out[0][0]           \n",
            "__________________________________________________________________________________________________\n",
            "conv4_block2_1_bn (BatchNormali (None, 14, 14, 256)  1024        conv4_block2_1_conv[0][0]        \n",
            "__________________________________________________________________________________________________\n",
            "conv4_block2_1_relu (Activation (None, 14, 14, 256)  0           conv4_block2_1_bn[0][0]          \n",
            "__________________________________________________________________________________________________\n",
            "conv4_block2_2_conv (Conv2D)    (None, 14, 14, 256)  590080      conv4_block2_1_relu[0][0]        \n",
            "__________________________________________________________________________________________________\n",
            "conv4_block2_2_bn (BatchNormali (None, 14, 14, 256)  1024        conv4_block2_2_conv[0][0]        \n",
            "__________________________________________________________________________________________________\n",
            "conv4_block2_2_relu (Activation (None, 14, 14, 256)  0           conv4_block2_2_bn[0][0]          \n",
            "__________________________________________________________________________________________________\n",
            "conv4_block2_3_conv (Conv2D)    (None, 14, 14, 1024) 263168      conv4_block2_2_relu[0][0]        \n",
            "__________________________________________________________________________________________________\n",
            "conv4_block2_3_bn (BatchNormali (None, 14, 14, 1024) 4096        conv4_block2_3_conv[0][0]        \n",
            "__________________________________________________________________________________________________\n",
            "conv4_block2_add (Add)          (None, 14, 14, 1024) 0           conv4_block1_out[0][0]           \n",
            "                                                                 conv4_block2_3_bn[0][0]          \n",
            "__________________________________________________________________________________________________\n",
            "conv4_block2_out (Activation)   (None, 14, 14, 1024) 0           conv4_block2_add[0][0]           \n",
            "__________________________________________________________________________________________________\n",
            "conv4_block3_1_conv (Conv2D)    (None, 14, 14, 256)  262400      conv4_block2_out[0][0]           \n",
            "__________________________________________________________________________________________________\n",
            "conv4_block3_1_bn (BatchNormali (None, 14, 14, 256)  1024        conv4_block3_1_conv[0][0]        \n",
            "__________________________________________________________________________________________________\n",
            "conv4_block3_1_relu (Activation (None, 14, 14, 256)  0           conv4_block3_1_bn[0][0]          \n",
            "__________________________________________________________________________________________________\n",
            "conv4_block3_2_conv (Conv2D)    (None, 14, 14, 256)  590080      conv4_block3_1_relu[0][0]        \n",
            "__________________________________________________________________________________________________\n",
            "conv4_block3_2_bn (BatchNormali (None, 14, 14, 256)  1024        conv4_block3_2_conv[0][0]        \n",
            "__________________________________________________________________________________________________\n",
            "conv4_block3_2_relu (Activation (None, 14, 14, 256)  0           conv4_block3_2_bn[0][0]          \n",
            "__________________________________________________________________________________________________\n",
            "conv4_block3_3_conv (Conv2D)    (None, 14, 14, 1024) 263168      conv4_block3_2_relu[0][0]        \n",
            "__________________________________________________________________________________________________\n",
            "conv4_block3_3_bn (BatchNormali (None, 14, 14, 1024) 4096        conv4_block3_3_conv[0][0]        \n",
            "__________________________________________________________________________________________________\n",
            "conv4_block3_add (Add)          (None, 14, 14, 1024) 0           conv4_block2_out[0][0]           \n",
            "                                                                 conv4_block3_3_bn[0][0]          \n",
            "__________________________________________________________________________________________________\n",
            "conv4_block3_out (Activation)   (None, 14, 14, 1024) 0           conv4_block3_add[0][0]           \n",
            "__________________________________________________________________________________________________\n",
            "conv4_block4_1_conv (Conv2D)    (None, 14, 14, 256)  262400      conv4_block3_out[0][0]           \n",
            "__________________________________________________________________________________________________\n",
            "conv4_block4_1_bn (BatchNormali (None, 14, 14, 256)  1024        conv4_block4_1_conv[0][0]        \n",
            "__________________________________________________________________________________________________\n",
            "conv4_block4_1_relu (Activation (None, 14, 14, 256)  0           conv4_block4_1_bn[0][0]          \n",
            "__________________________________________________________________________________________________\n",
            "conv4_block4_2_conv (Conv2D)    (None, 14, 14, 256)  590080      conv4_block4_1_relu[0][0]        \n",
            "__________________________________________________________________________________________________\n",
            "conv4_block4_2_bn (BatchNormali (None, 14, 14, 256)  1024        conv4_block4_2_conv[0][0]        \n",
            "__________________________________________________________________________________________________\n",
            "conv4_block4_2_relu (Activation (None, 14, 14, 256)  0           conv4_block4_2_bn[0][0]          \n",
            "__________________________________________________________________________________________________\n",
            "conv4_block4_3_conv (Conv2D)    (None, 14, 14, 1024) 263168      conv4_block4_2_relu[0][0]        \n",
            "__________________________________________________________________________________________________\n",
            "conv4_block4_3_bn (BatchNormali (None, 14, 14, 1024) 4096        conv4_block4_3_conv[0][0]        \n",
            "__________________________________________________________________________________________________\n",
            "conv4_block4_add (Add)          (None, 14, 14, 1024) 0           conv4_block3_out[0][0]           \n",
            "                                                                 conv4_block4_3_bn[0][0]          \n",
            "__________________________________________________________________________________________________\n",
            "conv4_block4_out (Activation)   (None, 14, 14, 1024) 0           conv4_block4_add[0][0]           \n",
            "__________________________________________________________________________________________________\n",
            "conv4_block5_1_conv (Conv2D)    (None, 14, 14, 256)  262400      conv4_block4_out[0][0]           \n",
            "__________________________________________________________________________________________________\n",
            "conv4_block5_1_bn (BatchNormali (None, 14, 14, 256)  1024        conv4_block5_1_conv[0][0]        \n",
            "__________________________________________________________________________________________________\n",
            "conv4_block5_1_relu (Activation (None, 14, 14, 256)  0           conv4_block5_1_bn[0][0]          \n",
            "__________________________________________________________________________________________________\n",
            "conv4_block5_2_conv (Conv2D)    (None, 14, 14, 256)  590080      conv4_block5_1_relu[0][0]        \n",
            "__________________________________________________________________________________________________\n",
            "conv4_block5_2_bn (BatchNormali (None, 14, 14, 256)  1024        conv4_block5_2_conv[0][0]        \n",
            "__________________________________________________________________________________________________\n",
            "conv4_block5_2_relu (Activation (None, 14, 14, 256)  0           conv4_block5_2_bn[0][0]          \n",
            "__________________________________________________________________________________________________\n",
            "conv4_block5_3_conv (Conv2D)    (None, 14, 14, 1024) 263168      conv4_block5_2_relu[0][0]        \n",
            "__________________________________________________________________________________________________\n",
            "conv4_block5_3_bn (BatchNormali (None, 14, 14, 1024) 4096        conv4_block5_3_conv[0][0]        \n",
            "__________________________________________________________________________________________________\n",
            "conv4_block5_add (Add)          (None, 14, 14, 1024) 0           conv4_block4_out[0][0]           \n",
            "                                                                 conv4_block5_3_bn[0][0]          \n",
            "__________________________________________________________________________________________________\n",
            "conv4_block5_out (Activation)   (None, 14, 14, 1024) 0           conv4_block5_add[0][0]           \n",
            "__________________________________________________________________________________________________\n",
            "conv4_block6_1_conv (Conv2D)    (None, 14, 14, 256)  262400      conv4_block5_out[0][0]           \n",
            "__________________________________________________________________________________________________\n",
            "conv4_block6_1_bn (BatchNormali (None, 14, 14, 256)  1024        conv4_block6_1_conv[0][0]        \n",
            "__________________________________________________________________________________________________\n",
            "conv4_block6_1_relu (Activation (None, 14, 14, 256)  0           conv4_block6_1_bn[0][0]          \n",
            "__________________________________________________________________________________________________\n",
            "conv4_block6_2_conv (Conv2D)    (None, 14, 14, 256)  590080      conv4_block6_1_relu[0][0]        \n",
            "__________________________________________________________________________________________________\n",
            "conv4_block6_2_bn (BatchNormali (None, 14, 14, 256)  1024        conv4_block6_2_conv[0][0]        \n",
            "__________________________________________________________________________________________________\n",
            "conv4_block6_2_relu (Activation (None, 14, 14, 256)  0           conv4_block6_2_bn[0][0]          \n",
            "__________________________________________________________________________________________________\n",
            "conv4_block6_3_conv (Conv2D)    (None, 14, 14, 1024) 263168      conv4_block6_2_relu[0][0]        \n",
            "__________________________________________________________________________________________________\n",
            "conv4_block6_3_bn (BatchNormali (None, 14, 14, 1024) 4096        conv4_block6_3_conv[0][0]        \n",
            "__________________________________________________________________________________________________\n",
            "conv4_block6_add (Add)          (None, 14, 14, 1024) 0           conv4_block5_out[0][0]           \n",
            "                                                                 conv4_block6_3_bn[0][0]          \n",
            "__________________________________________________________________________________________________\n",
            "conv4_block6_out (Activation)   (None, 14, 14, 1024) 0           conv4_block6_add[0][0]           \n",
            "__________________________________________________________________________________________________\n",
            "conv5_block1_1_conv (Conv2D)    (None, 7, 7, 512)    524800      conv4_block6_out[0][0]           \n",
            "__________________________________________________________________________________________________\n",
            "conv5_block1_1_bn (BatchNormali (None, 7, 7, 512)    2048        conv5_block1_1_conv[0][0]        \n",
            "__________________________________________________________________________________________________\n",
            "conv5_block1_1_relu (Activation (None, 7, 7, 512)    0           conv5_block1_1_bn[0][0]          \n",
            "__________________________________________________________________________________________________\n",
            "conv5_block1_2_conv (Conv2D)    (None, 7, 7, 512)    2359808     conv5_block1_1_relu[0][0]        \n",
            "__________________________________________________________________________________________________\n",
            "conv5_block1_2_bn (BatchNormali (None, 7, 7, 512)    2048        conv5_block1_2_conv[0][0]        \n",
            "__________________________________________________________________________________________________\n",
            "conv5_block1_2_relu (Activation (None, 7, 7, 512)    0           conv5_block1_2_bn[0][0]          \n",
            "__________________________________________________________________________________________________\n",
            "conv5_block1_0_conv (Conv2D)    (None, 7, 7, 2048)   2099200     conv4_block6_out[0][0]           \n",
            "__________________________________________________________________________________________________\n",
            "conv5_block1_3_conv (Conv2D)    (None, 7, 7, 2048)   1050624     conv5_block1_2_relu[0][0]        \n",
            "__________________________________________________________________________________________________\n",
            "conv5_block1_0_bn (BatchNormali (None, 7, 7, 2048)   8192        conv5_block1_0_conv[0][0]        \n",
            "__________________________________________________________________________________________________\n",
            "conv5_block1_3_bn (BatchNormali (None, 7, 7, 2048)   8192        conv5_block1_3_conv[0][0]        \n",
            "__________________________________________________________________________________________________\n",
            "conv5_block1_add (Add)          (None, 7, 7, 2048)   0           conv5_block1_0_bn[0][0]          \n",
            "                                                                 conv5_block1_3_bn[0][0]          \n",
            "__________________________________________________________________________________________________\n",
            "conv5_block1_out (Activation)   (None, 7, 7, 2048)   0           conv5_block1_add[0][0]           \n",
            "__________________________________________________________________________________________________\n",
            "conv5_block2_1_conv (Conv2D)    (None, 7, 7, 512)    1049088     conv5_block1_out[0][0]           \n",
            "__________________________________________________________________________________________________\n",
            "conv5_block2_1_bn (BatchNormali (None, 7, 7, 512)    2048        conv5_block2_1_conv[0][0]        \n",
            "__________________________________________________________________________________________________\n",
            "conv5_block2_1_relu (Activation (None, 7, 7, 512)    0           conv5_block2_1_bn[0][0]          \n",
            "__________________________________________________________________________________________________\n",
            "conv5_block2_2_conv (Conv2D)    (None, 7, 7, 512)    2359808     conv5_block2_1_relu[0][0]        \n",
            "__________________________________________________________________________________________________\n",
            "conv5_block2_2_bn (BatchNormali (None, 7, 7, 512)    2048        conv5_block2_2_conv[0][0]        \n",
            "__________________________________________________________________________________________________\n",
            "conv5_block2_2_relu (Activation (None, 7, 7, 512)    0           conv5_block2_2_bn[0][0]          \n",
            "__________________________________________________________________________________________________\n",
            "conv5_block2_3_conv (Conv2D)    (None, 7, 7, 2048)   1050624     conv5_block2_2_relu[0][0]        \n",
            "__________________________________________________________________________________________________\n",
            "conv5_block2_3_bn (BatchNormali (None, 7, 7, 2048)   8192        conv5_block2_3_conv[0][0]        \n",
            "__________________________________________________________________________________________________\n",
            "conv5_block2_add (Add)          (None, 7, 7, 2048)   0           conv5_block1_out[0][0]           \n",
            "                                                                 conv5_block2_3_bn[0][0]          \n",
            "__________________________________________________________________________________________________\n",
            "conv5_block2_out (Activation)   (None, 7, 7, 2048)   0           conv5_block2_add[0][0]           \n",
            "__________________________________________________________________________________________________\n",
            "conv5_block3_1_conv (Conv2D)    (None, 7, 7, 512)    1049088     conv5_block2_out[0][0]           \n",
            "__________________________________________________________________________________________________\n",
            "conv5_block3_1_bn (BatchNormali (None, 7, 7, 512)    2048        conv5_block3_1_conv[0][0]        \n",
            "__________________________________________________________________________________________________\n",
            "conv5_block3_1_relu (Activation (None, 7, 7, 512)    0           conv5_block3_1_bn[0][0]          \n",
            "__________________________________________________________________________________________________\n",
            "conv5_block3_2_conv (Conv2D)    (None, 7, 7, 512)    2359808     conv5_block3_1_relu[0][0]        \n",
            "__________________________________________________________________________________________________\n",
            "conv5_block3_2_bn (BatchNormali (None, 7, 7, 512)    2048        conv5_block3_2_conv[0][0]        \n",
            "__________________________________________________________________________________________________\n",
            "conv5_block3_2_relu (Activation (None, 7, 7, 512)    0           conv5_block3_2_bn[0][0]          \n",
            "__________________________________________________________________________________________________\n",
            "conv5_block3_3_conv (Conv2D)    (None, 7, 7, 2048)   1050624     conv5_block3_2_relu[0][0]        \n",
            "__________________________________________________________________________________________________\n",
            "conv5_block3_3_bn (BatchNormali (None, 7, 7, 2048)   8192        conv5_block3_3_conv[0][0]        \n",
            "__________________________________________________________________________________________________\n",
            "conv5_block3_add (Add)          (None, 7, 7, 2048)   0           conv5_block2_out[0][0]           \n",
            "                                                                 conv5_block3_3_bn[0][0]          \n",
            "__________________________________________________________________________________________________\n",
            "conv5_block3_out (Activation)   (None, 7, 7, 2048)   0           conv5_block3_add[0][0]           \n",
            "__________________________________________________________________________________________________\n",
            "flatten (Flatten)               (None, 100352)       0           conv5_block3_out[0][0]           \n",
            "__________________________________________________________________________________________________\n",
            "dense (Dense)                   (None, 3)            301059      flatten[0][0]                    \n",
            "==================================================================================================\n",
            "Total params: 23,888,771\n",
            "Trainable params: 301,059\n",
            "Non-trainable params: 23,587,712\n",
            "__________________________________________________________________________________________________\n"
          ],
          "name": "stdout"
        }
      ]
    },
    {
      "cell_type": "code",
      "metadata": {
        "id": "FYFVJJQp2LrN",
        "colab_type": "code",
        "colab": {}
      },
      "source": [
        "#COST AND OPTIMIZATION\n",
        "\n",
        "# Telling the model which cost and optimization method to use\n",
        "model.compile(\n",
        "               loss='categorical_crossentropy',\n",
        "               optimizer = 'adam',\n",
        "              metrics = ['accuracy']\n",
        "               )"
      ],
      "execution_count": null,
      "outputs": []
    },
    {
      "cell_type": "code",
      "metadata": {
        "id": "hbwjQ4zv25Ul",
        "colab_type": "code",
        "colab": {}
      },
      "source": [
        "# IMPORT THE IMAGE DATASET\n",
        "\n",
        "# Use the Image Data Generator to IMPORT THE IMAGE DATASET\n",
        "from tensorflow.keras.preprocessing.image import ImageDataGenerator\n",
        "train_datagen = ImageDataGenerator(rescale = 1./255,\n",
        "                                  shear_range = 0.2,\n",
        "                                   zoom_range = 0.2,\n",
        "                                   horizontal_flip = True)\n",
        "\n",
        "test_datagen = ImageDataGenerator(rescale = 1./255)\n"
      ],
      "execution_count": null,
      "outputs": []
    },
    {
      "cell_type": "code",
      "metadata": {
        "id": "m4aohakPAirm",
        "colab_type": "code",
        "colab": {
          "base_uri": "https://localhost:8080/",
          "height": 35
        },
        "outputId": "ff012a7b-9d6f-4fa3-fef7-048d8bc5d33c"
      },
      "source": [
        "test_dir"
      ],
      "execution_count": null,
      "outputs": [
        {
          "output_type": "execute_result",
          "data": {
            "application/vnd.google.colaboratory.intrinsic+json": {
              "type": "string"
            },
            "text/plain": [
              "'/content/drive/My Drive/Colab Notebooks/1_Data_science_projects/2_carPrediction/Dataset/Test'"
            ]
          },
          "metadata": {
            "tags": []
          },
          "execution_count": 18
        }
      ]
    },
    {
      "cell_type": "code",
      "metadata": {
        "id": "Kf9zkyzc3uFs",
        "colab_type": "code",
        "colab": {
          "base_uri": "https://localhost:8080/",
          "height": 34
        },
        "outputId": "25dcd36d-e568-48b4-d438-dc772abde4f4"
      },
      "source": [
        "# CREATE THE TRAINING SET\n",
        "\n",
        "training_set = train_datagen.flow_from_directory(train_dir,\n",
        "                                                 target_size = (224, 224),\n",
        "                                                 batch_size = 32,\n",
        "                                                 class_mode = 'categorical')"
      ],
      "execution_count": null,
      "outputs": [
        {
          "output_type": "stream",
          "text": [
            "Found 84 images belonging to 3 classes.\n"
          ],
          "name": "stdout"
        }
      ]
    },
    {
      "cell_type": "code",
      "metadata": {
        "id": "hIV_FHMO4h-l",
        "colab_type": "code",
        "colab": {
          "base_uri": "https://localhost:8080/",
          "height": 34
        },
        "outputId": "347547fa-65cb-4d11-effd-3481ed2843e4"
      },
      "source": [
        "test_set = test_datagen.flow_from_directory(test_dir,\n",
        "                                                 target_size = (224, 224),\n",
        "                                                 batch_size = 32,\n",
        "                                                 class_mode = 'categorical')"
      ],
      "execution_count": null,
      "outputs": [
        {
          "output_type": "stream",
          "text": [
            "Found 30 images belonging to 3 classes.\n"
          ],
          "name": "stdout"
        }
      ]
    },
    {
      "cell_type": "code",
      "metadata": {
        "id": "bQAbNnhq4vnE",
        "colab_type": "code",
        "colab": {
          "base_uri": "https://localhost:8080/",
          "height": 1000
        },
        "outputId": "27fb6b2f-c356-401a-bcd0-a5b94bfcdfea"
      },
      "source": [
        "# FIT THE MODEL\n",
        "\n",
        "r = model.fit_generator(\n",
        "  training_set,\n",
        "  validation_data=test_set,\n",
        "  epochs=30,\n",
        "  steps_per_epoch=len(training_set),\n",
        "  validation_steps=len(test_set)\n",
        ")"
      ],
      "execution_count": null,
      "outputs": [
        {
          "output_type": "stream",
          "text": [
            "WARNING:tensorflow:From <ipython-input-21-509e565ee25f>:8: Model.fit_generator (from tensorflow.python.keras.engine.training) is deprecated and will be removed in a future version.\n",
            "Instructions for updating:\n",
            "Please use Model.fit, which supports generators.\n",
            "Epoch 1/30\n",
            "3/3 [==============================] - 24s 8s/step - loss: 6.1513 - accuracy: 0.3929 - val_loss: 13.1105 - val_accuracy: 0.3333\n",
            "Epoch 2/30\n",
            "3/3 [==============================] - 12s 4s/step - loss: 9.1910 - accuracy: 0.4048 - val_loss: 7.8984 - val_accuracy: 0.3667\n",
            "Epoch 3/30\n",
            "3/3 [==============================] - 12s 4s/step - loss: 3.8721 - accuracy: 0.4048 - val_loss: 5.6121 - val_accuracy: 0.3333\n",
            "Epoch 4/30\n",
            "3/3 [==============================] - 12s 4s/step - loss: 6.0951 - accuracy: 0.4524 - val_loss: 5.4917 - val_accuracy: 0.4333\n",
            "Epoch 5/30\n",
            "3/3 [==============================] - 14s 5s/step - loss: 3.2744 - accuracy: 0.4286 - val_loss: 1.9312 - val_accuracy: 0.5000\n",
            "Epoch 6/30\n",
            "3/3 [==============================] - 15s 5s/step - loss: 2.6340 - accuracy: 0.4762 - val_loss: 3.9913 - val_accuracy: 0.5000\n",
            "Epoch 7/30\n",
            "3/3 [==============================] - 12s 4s/step - loss: 2.7552 - accuracy: 0.5238 - val_loss: 1.8797 - val_accuracy: 0.4333\n",
            "Epoch 8/30\n",
            "3/3 [==============================] - 14s 5s/step - loss: 1.7617 - accuracy: 0.5000 - val_loss: 2.2632 - val_accuracy: 0.4333\n",
            "Epoch 9/30\n",
            "3/3 [==============================] - 12s 4s/step - loss: 1.6275 - accuracy: 0.5714 - val_loss: 2.3403 - val_accuracy: 0.4333\n",
            "Epoch 10/30\n",
            "3/3 [==============================] - 12s 4s/step - loss: 1.9276 - accuracy: 0.5476 - val_loss: 2.3704 - val_accuracy: 0.4667\n",
            "Epoch 11/30\n",
            "3/3 [==============================] - 12s 4s/step - loss: 1.1306 - accuracy: 0.5952 - val_loss: 1.3010 - val_accuracy: 0.4667\n",
            "Epoch 12/30\n",
            "3/3 [==============================] - 12s 4s/step - loss: 1.1360 - accuracy: 0.5476 - val_loss: 1.8702 - val_accuracy: 0.4667\n",
            "Epoch 13/30\n",
            "3/3 [==============================] - 12s 4s/step - loss: 0.8875 - accuracy: 0.6786 - val_loss: 1.5174 - val_accuracy: 0.5667\n",
            "Epoch 14/30\n",
            "3/3 [==============================] - 14s 5s/step - loss: 0.9764 - accuracy: 0.6905 - val_loss: 1.0091 - val_accuracy: 0.6000\n",
            "Epoch 15/30\n",
            "3/3 [==============================] - 14s 5s/step - loss: 0.7689 - accuracy: 0.7143 - val_loss: 1.3592 - val_accuracy: 0.6000\n",
            "Epoch 16/30\n",
            "3/3 [==============================] - 12s 4s/step - loss: 0.6938 - accuracy: 0.7381 - val_loss: 1.4945 - val_accuracy: 0.5333\n",
            "Epoch 17/30\n",
            "3/3 [==============================] - 12s 4s/step - loss: 0.5554 - accuracy: 0.7857 - val_loss: 1.1667 - val_accuracy: 0.6333\n",
            "Epoch 18/30\n",
            "3/3 [==============================] - 12s 4s/step - loss: 0.5260 - accuracy: 0.7619 - val_loss: 1.3272 - val_accuracy: 0.5667\n",
            "Epoch 19/30\n",
            "3/3 [==============================] - 12s 4s/step - loss: 0.4021 - accuracy: 0.8333 - val_loss: 1.2522 - val_accuracy: 0.6000\n",
            "Epoch 20/30\n",
            "3/3 [==============================] - 14s 5s/step - loss: 0.4078 - accuracy: 0.8452 - val_loss: 0.9759 - val_accuracy: 0.6000\n",
            "Epoch 21/30\n",
            "3/3 [==============================] - 12s 4s/step - loss: 0.3435 - accuracy: 0.8810 - val_loss: 1.1852 - val_accuracy: 0.5000\n",
            "Epoch 22/30\n",
            "3/3 [==============================] - 12s 4s/step - loss: 0.3346 - accuracy: 0.8452 - val_loss: 1.2172 - val_accuracy: 0.6000\n",
            "Epoch 23/30\n",
            "3/3 [==============================] - 12s 4s/step - loss: 0.4315 - accuracy: 0.8214 - val_loss: 1.1976 - val_accuracy: 0.6000\n",
            "Epoch 24/30\n",
            "3/3 [==============================] - 12s 4s/step - loss: 0.4591 - accuracy: 0.7857 - val_loss: 1.0699 - val_accuracy: 0.6000\n",
            "Epoch 25/30\n",
            "3/3 [==============================] - 12s 4s/step - loss: 0.3103 - accuracy: 0.9048 - val_loss: 1.1213 - val_accuracy: 0.6667\n",
            "Epoch 26/30\n",
            "3/3 [==============================] - 12s 4s/step - loss: 0.3123 - accuracy: 0.8810 - val_loss: 1.0062 - val_accuracy: 0.6000\n",
            "Epoch 27/30\n",
            "3/3 [==============================] - 12s 4s/step - loss: 0.3011 - accuracy: 0.9167 - val_loss: 1.0993 - val_accuracy: 0.6667\n",
            "Epoch 28/30\n",
            "3/3 [==============================] - 14s 5s/step - loss: 0.2975 - accuracy: 0.9048 - val_loss: 1.1369 - val_accuracy: 0.5667\n",
            "Epoch 29/30\n",
            "3/3 [==============================] - 14s 5s/step - loss: 0.3486 - accuracy: 0.8571 - val_loss: 0.9863 - val_accuracy: 0.7000\n",
            "Epoch 30/30\n",
            "3/3 [==============================] - 12s 4s/step - loss: 0.3426 - accuracy: 0.9048 - val_loss: 1.2543 - val_accuracy: 0.6000\n"
          ],
          "name": "stdout"
        }
      ]
    },
    {
      "cell_type": "code",
      "metadata": {
        "id": "X1GTJo0v-VQ_",
        "colab_type": "code",
        "colab": {
          "base_uri": "https://localhost:8080/",
          "height": 547
        },
        "outputId": "d69df9f7-6c71-4589-ba3a-08f8b637b970"
      },
      "source": [
        "# Ploting the loss\n",
        "plt.plot(r.history['loss'], label = 'train loss')\n",
        "plt.plot(r.history['val_loss'], label = 'val_loss')\n",
        "plt.legend()\n",
        "plt.show()\n",
        "\n",
        "print('\\n')\n",
        "\n",
        "# Ploting the accuracy\n",
        "plt.plot(r.history['accuracy'], label = 'accuracy')\n",
        "plt.plot(r.history['val_accuracy'], label = 'val_accuracy')\n",
        "plt.legend()\n",
        "plt.show()"
      ],
      "execution_count": null,
      "outputs": [
        {
          "output_type": "display_data",
          "data": {
            "image/png": "[encoded data removed]",
            "text/plain": [
              "<Figure size 432x288 with 1 Axes>"
            ]
          },
          "metadata": {
            "tags": [],
            "needs_background": "light"
          }
        },
        {
          "output_type": "stream",
          "text": [
            "\n",
            "\n"
          ],
          "name": "stdout"
        },
        {
          "output_type": "display_data",
          "data": {
            "image/png": "[encoded data removed]",
            "text/plain": [
              "<Figure size 432x288 with 1 Axes>"
            ]
          },
          "metadata": {
            "tags": [],
            "needs_background": "light"
          }
        }
      ]
    },
    {
      "cell_type": "code",
      "metadata": {
        "id": "I_xz0eqB6wlC",
        "colab_type": "code",
        "colab": {}
      },
      "source": [
        "# Making the prediction \n",
        "y_pred = model.predict(test_set)"
      ],
      "execution_count": null,
      "outputs": []
    },
    {
      "cell_type": "code",
      "metadata": {
        "id": "iFZUWFhtIZC4",
        "colab_type": "code",
        "colab": {
          "base_uri": "https://localhost:8080/",
          "height": 527
        },
        "outputId": "3896923a-c883-4479-dc58-2041a8dad634"
      },
      "source": [
        "y_pred"
      ],
      "execution_count": null,
      "outputs": [
        {
          "output_type": "execute_result",
          "data": {
            "text/plain": [
              "array([[9.0553183e-03, 6.9546068e-01, 2.9548398e-01],\n",
              "       [8.4458627e-03, 6.4588147e-01, 3.4567258e-01],\n",
              "       [9.5006656e-03, 3.1656155e-03, 9.8733366e-01],\n",
              "       [5.9668748e-03, 8.5773218e-01, 1.3630089e-01],\n",
              "       [1.8392835e-02, 5.6079012e-01, 4.2081708e-01],\n",
              "       [1.1563955e-02, 5.4141951e-01, 4.4701648e-01],\n",
              "       [1.5177178e-01, 6.9200468e-01, 1.5622349e-01],\n",
              "       [3.5727784e-02, 4.9563989e-01, 4.6863228e-01],\n",
              "       [1.5952304e-02, 5.8840567e-01, 3.9564201e-01],\n",
              "       [3.2747849e-03, 9.5955849e-01, 3.7166648e-02],\n",
              "       [4.1678574e-04, 9.9891829e-01, 6.6493452e-04],\n",
              "       [8.6046529e-01, 8.5695662e-02, 5.3839069e-02],\n",
              "       [3.1226665e-01, 1.6551271e-01, 5.2222061e-01],\n",
              "       [1.2251029e-02, 9.2725235e-01, 6.0496628e-02],\n",
              "       [3.6487520e-02, 4.8833452e-02, 9.1467899e-01],\n",
              "       [1.5283442e-02, 5.5761600e-01, 4.2710051e-01],\n",
              "       [7.4579711e-03, 9.4283038e-01, 4.9711607e-02],\n",
              "       [3.5368260e-02, 1.0959607e-02, 9.5367217e-01],\n",
              "       [1.5423855e-02, 7.6312894e-01, 2.2144723e-01],\n",
              "       [1.9995765e-01, 6.7463511e-01, 1.2540723e-01],\n",
              "       [2.4912266e-01, 7.1349150e-01, 3.7385885e-02],\n",
              "       [7.8440535e-06, 1.5514590e-03, 9.9844068e-01],\n",
              "       [5.7471255e-03, 9.7472000e-01, 1.9532846e-02],\n",
              "       [5.0860323e-04, 9.9747592e-01, 2.0155457e-03],\n",
              "       [1.5079185e-01, 6.9869292e-01, 1.5051514e-01],\n",
              "       [6.8095481e-01, 2.3320523e-01, 8.5839942e-02],\n",
              "       [4.0166263e-02, 1.6568236e-01, 7.9415137e-01],\n",
              "       [3.4550575e-03, 4.4921157e-01, 5.4733336e-01],\n",
              "       [5.8422661e-03, 9.9392575e-01, 2.3200244e-04],\n",
              "       [7.8075660e-05, 2.8311128e-03, 9.9709082e-01]], dtype=float32)"
            ]
          },
          "metadata": {
            "tags": []
          },
          "execution_count": 24
        }
      ]
    },
    {
      "cell_type": "markdown",
      "metadata": {
        "id": "13CyoGtZ7lIa",
        "colab_type": "text"
      },
      "source": [
        "* Note that we obtain an array of probablities for each class for each image or say data point\n",
        "* The prediction of the model is for the class with highest probablity\n",
        "\n",
        "\n"
      ]
    },
    {
      "cell_type": "code",
      "metadata": {
        "id": "00slOnzG6wpE",
        "colab_type": "code",
        "colab": {
          "base_uri": "https://localhost:8080/",
          "height": 34
        },
        "outputId": "c2b45ed7-7f1b-4f39-80d3-8491ae84cb62"
      },
      "source": [
        "y_pred.shape  # For 30 images we are getting an array of probabilites for each class"
      ],
      "execution_count": null,
      "outputs": [
        {
          "output_type": "execute_result",
          "data": {
            "text/plain": [
              "(30, 3)"
            ]
          },
          "metadata": {
            "tags": []
          },
          "execution_count": 25
        }
      ]
    },
    {
      "cell_type": "code",
      "metadata": {
        "id": "S5HJGH-37236",
        "colab_type": "code",
        "colab": {}
      },
      "source": [
        "\n",
        "final_pred = np.argmax(y_pred, axis=1)"
      ],
      "execution_count": null,
      "outputs": []
    },
    {
      "cell_type": "code",
      "metadata": {
        "id": "nW8z9s7d7-Y6",
        "colab_type": "code",
        "colab": {
          "base_uri": "https://localhost:8080/",
          "height": 51
        },
        "outputId": "f809c115-e1fc-497c-b53f-050b92fa1204"
      },
      "source": [
        "final_pred"
      ],
      "execution_count": null,
      "outputs": [
        {
          "output_type": "execute_result",
          "data": {
            "text/plain": [
              "array([1, 1, 2, 1, 1, 1, 1, 1, 1, 1, 1, 0, 2, 1, 2, 1, 1, 2, 1, 1, 1, 2,\n",
              "       1, 1, 1, 0, 2, 2, 1, 2])"
            ]
          },
          "metadata": {
            "tags": []
          },
          "execution_count": 27
        }
      ]
    },
    {
      "cell_type": "markdown",
      "metadata": {
        "id": "ZvZcCh33I9cU",
        "colab_type": "text"
      },
      "source": [
        "\n",
        "\n",
        "**Inference : So final_pred array show the predicted class to which the image belongs**\n",
        "\n",
        "\n"
      ]
    },
    {
      "cell_type": "code",
      "metadata": {
        "id": "U5tWieYq6YiG",
        "colab_type": "code",
        "colab": {}
      },
      "source": [
        "# Run this code to save the model as a h5 file\n",
        "\n",
        "#from tensorflow.keras.models import load_model\n",
        "#from tensorflow.keras.models import load_model\n",
        "#model.save('carbrand_resnet50.h5')"
      ],
      "execution_count": null,
      "outputs": []
    },
    {
      "cell_type": "markdown",
      "metadata": {
        "id": "KiYjply--9y9",
        "colab_type": "text"
      },
      "source": [
        "#### Now we will try to predict new images of each class using our model and check its robustness\n",
        "\n"
      ]
    },
    {
      "cell_type": "code",
      "metadata": {
        "id": "zwP4lzO57-lf",
        "colab_type": "code",
        "colab": {}
      },
      "source": [
        "from tensorflow.keras.preprocessing import image"
      ],
      "execution_count": null,
      "outputs": []
    },
    {
      "cell_type": "code",
      "metadata": {
        "id": "UzzUqZJS7-6B",
        "colab_type": "code",
        "colab": {}
      },
      "source": [
        "img_a=image.load_img('/content/drive/My Drive/Colab Notebooks/1_Data_science_projects/2_carPrediction/Dataset/Val/audi_vale.JPG',\n",
        "                   target_size=(224,224))\n",
        "\n",
        "img_l=image.load_img('/content/drive/My Drive/Colab Notebooks/1_Data_science_projects/2_carPrediction/Dataset/Val/lam_val.JPG',\n",
        "                   target_size=(224,224))\n",
        "\n",
        "img_m=image.load_img('/content/drive/My Drive/Colab Notebooks/1_Data_science_projects/2_carPrediction/Dataset/Val/merc_val.JPG',\n",
        "                   target_size=(224,224))"
      ],
      "execution_count": null,
      "outputs": []
    },
    {
      "cell_type": "markdown",
      "metadata": {
        "id": "H1JP3FCdLWXe",
        "colab_type": "text"
      },
      "source": [
        "\n",
        "\n",
        "*  So we have taken one  image for each class and will try to predict their class using our model.\n",
        "*   We need to check what our model predicts\n",
        "\n"
      ]
    },
    {
      "cell_type": "code",
      "metadata": {
        "id": "IwNbq8W_7-4V",
        "colab_type": "code",
        "colab": {
          "base_uri": "https://localhost:8080/",
          "height": 850
        },
        "outputId": "e49e9b86-96f9-484e-dce4-24dd041063b1"
      },
      "source": [
        "x_a = image.img_to_array(img_a)  # Image is converted to tensors having pixel values \n",
        "x_l = image.img_to_array(img_l)\n",
        "x_m = image.img_to_array(img_m)\n",
        "\n",
        "x_a"
      ],
      "execution_count": null,
      "outputs": [
        {
          "output_type": "execute_result",
          "data": {
            "text/plain": [
              "array([[[  0.,   0.,   0.],\n",
              "        [  0.,   0.,   0.],\n",
              "        [  0.,   0.,   0.],\n",
              "        ...,\n",
              "        [  0.,   0.,   0.],\n",
              "        [  0.,   0.,   0.],\n",
              "        [  0.,   0.,   0.]],\n",
              "\n",
              "       [[  0.,   0.,   0.],\n",
              "        [  0.,   0.,   0.],\n",
              "        [  0.,   0.,   0.],\n",
              "        ...,\n",
              "        [  0.,   0.,   0.],\n",
              "        [  0.,   0.,   0.],\n",
              "        [  0.,   0.,   0.]],\n",
              "\n",
              "       [[  0.,   0.,   0.],\n",
              "        [  0.,   0.,   0.],\n",
              "        [  0.,   0.,   0.],\n",
              "        ...,\n",
              "        [  0.,   0.,   0.],\n",
              "        [  0.,   0.,   0.],\n",
              "        [  0.,   0.,   0.]],\n",
              "\n",
              "       ...,\n",
              "\n",
              "       [[248., 249., 251.],\n",
              "        [248., 249., 251.],\n",
              "        [248., 249., 251.],\n",
              "        ...,\n",
              "        [108., 108., 108.],\n",
              "        [108., 108., 108.],\n",
              "        [109., 109., 109.]],\n",
              "\n",
              "       [[248., 249., 251.],\n",
              "        [248., 249., 251.],\n",
              "        [248., 249., 251.],\n",
              "        ...,\n",
              "        [108., 108., 108.],\n",
              "        [108., 108., 108.],\n",
              "        [109., 109., 109.]],\n",
              "\n",
              "       [[248., 249., 251.],\n",
              "        [248., 249., 251.],\n",
              "        [248., 249., 251.],\n",
              "        ...,\n",
              "        [108., 108., 108.],\n",
              "        [108., 108., 108.],\n",
              "        [109., 109., 109.]]], dtype=float32)"
            ]
          },
          "metadata": {
            "tags": []
          },
          "execution_count": 30
        }
      ]
    },
    {
      "cell_type": "code",
      "metadata": {
        "id": "sIDaH2_UKdJv",
        "colab_type": "code",
        "colab": {
          "base_uri": "https://localhost:8080/",
          "height": 68
        },
        "outputId": "750961c0-1788-4f3b-a885-113433d784f0"
      },
      "source": [
        "print(x_a.shape)\n",
        "print(x_l.shape)\n",
        "print(x_m.shape)"
      ],
      "execution_count": null,
      "outputs": [
        {
          "output_type": "stream",
          "text": [
            "(224, 224, 3)\n",
            "(224, 224, 3)\n",
            "(224, 224, 3)\n"
          ],
          "name": "stdout"
        }
      ]
    },
    {
      "cell_type": "code",
      "metadata": {
        "id": "c6tdMENXKps3",
        "colab_type": "code",
        "colab": {}
      },
      "source": [
        "x_a = x_a/225\n",
        "x_l = x_l/225\n",
        "x_m = x_m/225"
      ],
      "execution_count": null,
      "outputs": []
    },
    {
      "cell_type": "code",
      "metadata": {
        "id": "axdqCg7_Kv-q",
        "colab_type": "code",
        "colab": {
          "base_uri": "https://localhost:8080/",
          "height": 68
        },
        "outputId": "1f37c7c9-02cf-419e-9fb3-aaff058b5619"
      },
      "source": [
        "x_a = np.expand_dims(x_a,axis=0)\n",
        "img_data_a = preprocess_input(x_a)\n",
        "x_l = np.expand_dims(x_l,axis=0)\n",
        "img_data_l = preprocess_input(x_l)\n",
        "x_m = np.expand_dims(x_m,axis=0)\n",
        "img_data_m = preprocess_input(x_m)\n",
        "\n",
        "\n",
        "print(img_data_a.shape)\n",
        "print(img_data_l.shape)\n",
        "print(img_data_m.shape)"
      ],
      "execution_count": null,
      "outputs": [
        {
          "output_type": "stream",
          "text": [
            "(1, 224, 224, 3)\n",
            "(1, 224, 224, 3)\n",
            "(1, 224, 224, 3)\n"
          ],
          "name": "stdout"
        }
      ]
    },
    {
      "cell_type": "code",
      "metadata": {
        "id": "946W3SyuK0yz",
        "colab_type": "code",
        "colab": {
          "base_uri": "https://localhost:8080/",
          "height": 34
        },
        "outputId": "7075c011-b1f4-4943-dbfe-a4427eae2563"
      },
      "source": [
        "# Now predict\n",
        "model.predict(img_data_a)\n",
        "model.predict(img_data_l)\n",
        "model.predict(img_data_m)"
      ],
      "execution_count": null,
      "outputs": [
        {
          "output_type": "execute_result",
          "data": {
            "text/plain": [
              "array([[6.8810863e-05, 3.3597456e-04, 9.9959522e-01]], dtype=float32)"
            ]
          },
          "metadata": {
            "tags": []
          },
          "execution_count": 34
        }
      ]
    },
    {
      "cell_type": "code",
      "metadata": {
        "id": "4RX1d0SSK9jH",
        "colab_type": "code",
        "colab": {}
      },
      "source": [
        "a=np.argmax(model.predict(img_data_a), axis=1)\n",
        "l=np.argmax(model.predict(img_data_l), axis=1)\n",
        "m=np.argmax(model.predict(img_data_m), axis=1)"
      ],
      "execution_count": null,
      "outputs": []
    },
    {
      "cell_type": "markdown",
      "metadata": {
        "id": "vk2VWAsfKX5x",
        "colab_type": "text"
      },
      "source": [
        "First we know a variable object is audi image lets see what our model has predicted"
      ]
    },
    {
      "cell_type": "code",
      "metadata": {
        "id": "OfGSUp5yLl3v",
        "colab_type": "code",
        "colab": {
          "base_uri": "https://localhost:8080/",
          "height": 34
        },
        "outputId": "bb044d5c-24c8-4ac2-894e-1e33ad01796d"
      },
      "source": [
        "if a == 0:\n",
        "    print('Car is audi')\n",
        "elif a == 1:\n",
        "    print('Car is lamborghini')\n",
        "else:\n",
        "    print('Car is merc')"
      ],
      "execution_count": null,
      "outputs": [
        {
          "output_type": "stream",
          "text": [
            "Car is merc\n"
          ],
          "name": "stdout"
        }
      ]
    },
    {
      "cell_type": "markdown",
      "metadata": {
        "id": "ipOW6yh9K4WP",
        "colab_type": "text"
      },
      "source": [
        "**Inference: First prediction not correct, lets check for other classes**"
      ]
    },
    {
      "cell_type": "code",
      "metadata": {
        "id": "uZbusrojKtlu",
        "colab_type": "code",
        "colab": {
          "base_uri": "https://localhost:8080/",
          "height": 34
        },
        "outputId": "0229a1bc-9207-4ccd-bf36-d6330cede7d7"
      },
      "source": [
        "if l == 0:\n",
        "    print('Car is audi')\n",
        "elif l == 1:\n",
        "    print('Car is lamborghini')\n",
        "else:\n",
        "    print('Car is merc')"
      ],
      "execution_count": null,
      "outputs": [
        {
          "output_type": "stream",
          "text": [
            "Car is lamborghini\n"
          ],
          "name": "stdout"
        }
      ]
    },
    {
      "cell_type": "code",
      "metadata": {
        "id": "ZrgX4sx-KytV",
        "colab_type": "code",
        "colab": {
          "base_uri": "https://localhost:8080/",
          "height": 34
        },
        "outputId": "af673775-4075-4217-b33e-402f86785b7c"
      },
      "source": [
        "if m == 0:\n",
        "    print('Car is audi')\n",
        "elif m == 1:\n",
        "    print('Car is lamborghini')\n",
        "else:\n",
        "    print('Car is merc')"
      ],
      "execution_count": null,
      "outputs": [
        {
          "output_type": "stream",
          "text": [
            "Car is merc\n"
          ],
          "name": "stdout"
        }
      ]
    },
    {
      "cell_type": "markdown",
      "metadata": {
        "id": "OIP3i-J6LIZL",
        "colab_type": "text"
      },
      "source": [
        "\n",
        "**Results**\n",
        "*   So 2 out of 3 predictions are correct which is actually matching with our test data accuracy\n",
        "*   We can say model is performing well with 67% accuracy approx.\n",
        "*  More number of images will further help model to predict and gain high accuracy\n",
        "\n"
      ]
    },
    {
      "cell_type": "code",
      "metadata": {
        "id": "PkZlU-yhMjHu",
        "colab_type": "code",
        "colab": {}
      },
      "source": [
        "# End"
      ],
      "execution_count": null,
      "outputs": []
    }
  ]
}